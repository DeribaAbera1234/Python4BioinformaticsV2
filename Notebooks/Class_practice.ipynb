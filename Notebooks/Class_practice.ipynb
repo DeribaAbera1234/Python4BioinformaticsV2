{
 "cells": [
  {
   "cell_type": "markdown",
   "id": "435ab0dc-cf95-4553-861a-c96cef9039b2",
   "metadata": {},
   "source": [
    "# My Class Practice Notebook\n",
    "\n",
    "Here, I will document my Python learning journey.\n",
    "\n",
    "## 1. We can do math using Python"
   ]
  },
  {
   "cell_type": "code",
   "execution_count": 2,
   "id": "84838e4e-95d1-45ab-af77-47988811588e",
   "metadata": {},
   "outputs": [
    {
     "data": {
      "text/plain": [
       "42"
      ]
     },
     "execution_count": 2,
     "metadata": {},
     "output_type": "execute_result"
    }
   ],
   "source": [
    "4 + 38"
   ]
  },
  {
   "cell_type": "code",
   "execution_count": 3,
   "id": "b5d7402a-9525-476b-a6e1-c2534cb5842d",
   "metadata": {},
   "outputs": [
    {
     "data": {
      "text/plain": [
       "7"
      ]
     },
     "execution_count": 3,
     "metadata": {},
     "output_type": "execute_result"
    }
   ],
   "source": [
    "3 + 4"
   ]
  },
  {
   "cell_type": "markdown",
   "id": "7b21cd8e-775e-4e7f-8f4a-ba6a18bcb816",
   "metadata": {},
   "source": [
    "## 2. We can create strings in Python"
   ]
  },
  {
   "cell_type": "code",
   "execution_count": 4,
   "id": "d897eeeb-d6c1-4222-9b1d-c9f7cf59fee5",
   "metadata": {},
   "outputs": [],
   "source": [
    "name = \"Caleb\""
   ]
  },
  {
   "cell_type": "code",
   "execution_count": 5,
   "id": "fecee422-3bf3-4511-9857-079d28b009cd",
   "metadata": {},
   "outputs": [
    {
     "name": "stdout",
     "output_type": "stream",
     "text": [
      "My Name is Caleb\n"
     ]
    }
   ],
   "source": [
    "print(\"My Name is \" + name)"
   ]
  },
  {
   "cell_type": "code",
   "execution_count": 6,
   "id": "b0a85152-f2a4-4441-a537-e5321f7b7583",
   "metadata": {},
   "outputs": [
    {
     "name": "stdout",
     "output_type": "stream",
     "text": [
      "00.ipynb              04.ipynb              08.ipynb\n",
      "01.ipynb              05.ipynb              09.ipynb\n",
      "02.ipynb              06.ipynb              10.ipynb\n",
      "03.ipynb              07.ipynb              Class_practice.ipynb\n"
     ]
    }
   ],
   "source": [
    "ls"
   ]
  },
  {
   "cell_type": "code",
   "execution_count": null,
   "id": "33cb8717-b392-4791-b10a-a29676204533",
   "metadata": {},
   "outputs": [],
   "source": [
    "m"
   ]
  }
 ],
 "metadata": {
  "kernelspec": {
   "display_name": "Python 3 (ipykernel)",
   "language": "python",
   "name": "python3"
  },
  "language_info": {
   "codemirror_mode": {
    "name": "ipython",
    "version": 3
   },
   "file_extension": ".py",
   "mimetype": "text/x-python",
   "name": "python",
   "nbconvert_exporter": "python",
   "pygments_lexer": "ipython3",
   "version": "3.9.7"
  }
 },
 "nbformat": 4,
 "nbformat_minor": 5
}
